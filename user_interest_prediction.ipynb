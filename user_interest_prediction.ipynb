{
 "cells": [
  {
   "cell_type": "markdown",
   "metadata": {},
   "source": [
    "## Условие задачи"
   ]
  },
  {
   "cell_type": "markdown",
   "metadata": {},
   "source": [
    "Яндекс.Музыка проводит офлайн-фестиваль самых популярных исполнителей жанра техно. Чтобы привлечь пользователей на мероприятие, маркетолог Иван должен разослать email пользователям Музыки. Отправка одного письма стоит 10 рублей, а цена билета составляет 700 рублей. Как бы вы посоветовали Ивану сформировать выборку для отправки, учитывая логи прослушиваний пользователей Яндекс.Музыки?\n",
    "\n",
    "Обозначения в таблице:\n",
    "\n",
    "- audition_id – ID прослушивания в логе\n",
    "\n",
    "- utc_audition_start_dttm – дата начала прослушивания в формате YYYY-MM-DD hh:mm:ss\n",
    "\n",
    "- utc_audition_end_dttm – дата окончания прослушивания в формате YYYY-MM-DD hh:mm:ss\n",
    "\n",
    "- user_id – ID пользователя Яндекс.Музыки\n",
    "\n",
    "- track_id – ID трека Яндекс.Музыки\n",
    "\n",
    "- track_duration – продолжительность трека в секундах\n",
    "\n",
    "- track_genre – жанр трека"
   ]
  },
  {
   "cell_type": "markdown",
   "metadata": {},
   "source": [
    "## Загрузка и предобработка"
   ]
  },
  {
   "cell_type": "code",
   "execution_count": 1,
   "metadata": {},
   "outputs": [],
   "source": [
    "# импортируем необходимые библиотеки\n",
    "import pandas as pd\n",
    "import seaborn as sns\n",
    "import matplotlib.pyplot as plt"
   ]
  },
  {
   "cell_type": "code",
   "execution_count": 8,
   "metadata": {},
   "outputs": [
    {
     "data": {
      "text/html": [
       "<div>\n",
       "<style scoped>\n",
       "    .dataframe tbody tr th:only-of-type {\n",
       "        vertical-align: middle;\n",
       "    }\n",
       "\n",
       "    .dataframe tbody tr th {\n",
       "        vertical-align: top;\n",
       "    }\n",
       "\n",
       "    .dataframe thead th {\n",
       "        text-align: right;\n",
       "    }\n",
       "</style>\n",
       "<table border=\"1\" class=\"dataframe\">\n",
       "  <thead>\n",
       "    <tr style=\"text-align: right;\">\n",
       "      <th></th>\n",
       "      <th>audition_id</th>\n",
       "      <th>track_duration</th>\n",
       "      <th>track_genre</th>\n",
       "      <th>track_id</th>\n",
       "      <th>user_id</th>\n",
       "      <th>utc_audition_end_dttm</th>\n",
       "      <th>utc_audition_start_dttm</th>\n",
       "    </tr>\n",
       "  </thead>\n",
       "  <tbody>\n",
       "    <tr>\n",
       "      <th>0</th>\n",
       "      <td>3fecd60bf5564de7bb0064335f482b4d</td>\n",
       "      <td>336.629082</td>\n",
       "      <td>RAP</td>\n",
       "      <td>efd614e5-239a-418e-b39c-181b43719b62</td>\n",
       "      <td>a72d73ea124840698aa8</td>\n",
       "      <td>2021-02-28T12:32:10.776000Z</td>\n",
       "      <td>2021-02-28T12:31:01.865000Z</td>\n",
       "    </tr>\n",
       "    <tr>\n",
       "      <th>1</th>\n",
       "      <td>8ae1703df8354ee6b8d39ce2ceae4508</td>\n",
       "      <td>428.797846</td>\n",
       "      <td>VOCAL</td>\n",
       "      <td>d4697e6e-698a-41e8-8e15-ec890c94751e</td>\n",
       "      <td>066cc9287de340f281ba</td>\n",
       "      <td>2021-01-19T12:13:43.369000Z</td>\n",
       "      <td>2021-01-19T12:12:48.185000Z</td>\n",
       "    </tr>\n",
       "    <tr>\n",
       "      <th>2</th>\n",
       "      <td>44383125d98a4d939e7f294602674fc6</td>\n",
       "      <td>463.467143</td>\n",
       "      <td>METAL</td>\n",
       "      <td>e006afab-c832-4d07-8cd0-7d4a9c2aabe8</td>\n",
       "      <td>95ed23b52b104f66b4b1</td>\n",
       "      <td>2021-02-27T19:53:57.143000Z</td>\n",
       "      <td>2021-02-27T19:52:42.470000Z</td>\n",
       "    </tr>\n",
       "    <tr>\n",
       "      <th>3</th>\n",
       "      <td>a90b74992c9f4046a68935cb83ced7ee</td>\n",
       "      <td>323.746259</td>\n",
       "      <td>HARDROCK</td>\n",
       "      <td>c2ea845c-fcba-480a-b41a-d58bf9493375</td>\n",
       "      <td>b0a6dcec6f604b50b37e</td>\n",
       "      <td>2021-02-24T01:51:44.526000Z</td>\n",
       "      <td>2021-02-24T01:46:25.549000Z</td>\n",
       "    </tr>\n",
       "    <tr>\n",
       "      <th>4</th>\n",
       "      <td>0d98a88fba0a4dc3bb0444089a0ce16b</td>\n",
       "      <td>316.888403</td>\n",
       "      <td>POP</td>\n",
       "      <td>ad68738c-2a38-4e0f-910a-71bb0aa0a0c0</td>\n",
       "      <td>6788b1c78a724de488c9</td>\n",
       "      <td>2020-12-24T05:04:32.855000Z</td>\n",
       "      <td>2020-12-24T05:00:09.645000Z</td>\n",
       "    </tr>\n",
       "  </tbody>\n",
       "</table>\n",
       "</div>"
      ],
      "text/plain": [
       "                        audition_id  track_duration track_genre  \\\n",
       "0  3fecd60bf5564de7bb0064335f482b4d      336.629082         RAP   \n",
       "1  8ae1703df8354ee6b8d39ce2ceae4508      428.797846       VOCAL   \n",
       "2  44383125d98a4d939e7f294602674fc6      463.467143       METAL   \n",
       "3  a90b74992c9f4046a68935cb83ced7ee      323.746259    HARDROCK   \n",
       "4  0d98a88fba0a4dc3bb0444089a0ce16b      316.888403         POP   \n",
       "\n",
       "                               track_id               user_id  \\\n",
       "0  efd614e5-239a-418e-b39c-181b43719b62  a72d73ea124840698aa8   \n",
       "1  d4697e6e-698a-41e8-8e15-ec890c94751e  066cc9287de340f281ba   \n",
       "2  e006afab-c832-4d07-8cd0-7d4a9c2aabe8  95ed23b52b104f66b4b1   \n",
       "3  c2ea845c-fcba-480a-b41a-d58bf9493375  b0a6dcec6f604b50b37e   \n",
       "4  ad68738c-2a38-4e0f-910a-71bb0aa0a0c0  6788b1c78a724de488c9   \n",
       "\n",
       "         utc_audition_end_dttm      utc_audition_start_dttm  \n",
       "0  2021-02-28T12:32:10.776000Z  2021-02-28T12:31:01.865000Z  \n",
       "1  2021-01-19T12:13:43.369000Z  2021-01-19T12:12:48.185000Z  \n",
       "2  2021-02-27T19:53:57.143000Z  2021-02-27T19:52:42.470000Z  \n",
       "3  2021-02-24T01:51:44.526000Z  2021-02-24T01:46:25.549000Z  \n",
       "4  2020-12-24T05:04:32.855000Z  2020-12-24T05:00:09.645000Z  "
      ]
     },
     "execution_count": 8,
     "metadata": {},
     "output_type": "execute_result"
    }
   ],
   "source": [
    "# загрузим датасет\n",
    "df = pd.read_csv('music_data.csv', index_col=0)\n",
    "df.head()"
   ]
  },
  {
   "cell_type": "markdown",
   "metadata": {},
   "source": [
    "Для начала подробнее рассмотрим данные и выделим особенности выборки."
   ]
  },
  {
   "cell_type": "code",
   "execution_count": 9,
   "metadata": {},
   "outputs": [
    {
     "data": {
      "text/plain": [
       "(842397, 7)"
      ]
     },
     "execution_count": 9,
     "metadata": {},
     "output_type": "execute_result"
    }
   ],
   "source": [
    "df.shape"
   ]
  },
  {
   "cell_type": "code",
   "execution_count": 10,
   "metadata": {},
   "outputs": [
    {
     "data": {
      "text/plain": [
       "0"
      ]
     },
     "execution_count": 10,
     "metadata": {},
     "output_type": "execute_result"
    }
   ],
   "source": [
    "# все прослушивания в датасете уникальны\n",
    "df.audition_id.count() - df.audition_id.nunique()"
   ]
  },
  {
   "cell_type": "code",
   "execution_count": 11,
   "metadata": {},
   "outputs": [
    {
     "data": {
      "image/png": "[encoded data removed]",
      "text/plain": [
       "<Figure size 648x288 with 2 Axes>"
      ]
     },
     "metadata": {
      "needs_background": "light"
     },
     "output_type": "display_data"
    }
   ],
   "source": [
    "fig, (ax1, ax2) = plt.subplots(1, 2, figsize=(9,4))\n",
    "\n",
    "df.groupby('track_id').track_id.count().hist(bins=20, ax=ax1, grid=False)\n",
    "df.groupby('user_id').track_id.count().hist(bins=20, ax=ax2, grid=False)\n",
    "\n",
    "ax1.set_title('Распределение прослушиваний по трекам', size=10)\n",
    "ax2.set_title('Распределение прослушиваний по пользователям', size=10)\n",
    "\n",
    "plt.show()"
   ]
  },
  {
   "cell_type": "markdown",
   "metadata": {},
   "source": [
    "Количество прослушиваний по пользователям и трекам распределено нормально."
   ]
  },
  {
   "cell_type": "code",
   "execution_count": 12,
   "metadata": {},
   "outputs": [
    {
     "data": {
      "image/png": "[encoded data removed]",
      "text/plain": [
       "<Figure size 432x288 with 1 Axes>"
      ]
     },
     "metadata": {
      "needs_background": "light"
     },
     "output_type": "display_data"
    }
   ],
   "source": [
    "df.groupby(['user_id', 'track_id']).track_id.count().hist(bins=3, grid=False)\n",
    "plt.title('Сколько раз пользователь слушает трек?')\n",
    "plt.xticks(range(1, 4))\n",
    "plt.show()"
   ]
  },
  {
   "cell_type": "markdown",
   "metadata": {},
   "source": [
    "Обычно пользователи прослушивают трек не более одного раза."
   ]
  },
  {
   "cell_type": "code",
   "execution_count": 14,
   "metadata": {},
   "outputs": [
    {
     "data": {
      "text/plain": [
       "count    796565.00\n",
       "mean          1.06\n",
       "std           0.24\n",
       "min           1.00\n",
       "25%           1.00\n",
       "50%           1.00\n",
       "75%           1.00\n",
       "max           4.00\n",
       "Name: track_id, dtype: float64"
      ]
     },
     "execution_count": 14,
     "metadata": {},
     "output_type": "execute_result"
    }
   ],
   "source": [
    "df.groupby(['user_id', 'track_id']).track_id.count().describe().round(2)"
   ]
  },
  {
   "cell_type": "markdown",
   "metadata": {},
   "source": [
    "В среднем пользователь слушает трек 1.06 раз."
   ]
  },
  {
   "cell_type": "code",
   "execution_count": 15,
   "metadata": {},
   "outputs": [],
   "source": [
    "# приведем начало и конец прослушивания в формат datetime\n",
    "df['audition_end'] = pd.to_datetime(df.utc_audition_end_dttm)\n",
    "df['audition_start'] = pd.to_datetime(df.utc_audition_start_dttm)\n",
    "# посчитаем процент от длины трека, который пользователь прослушал\n",
    "df['listened'] = ((df.audition_end - df.audition_start).dt.total_seconds() / df.track_duration)"
   ]
  },
  {
   "cell_type": "code",
   "execution_count": 16,
   "metadata": {},
   "outputs": [
    {
     "data": {
      "text/html": [
       "<div>\n",
       "<style scoped>\n",
       "    .dataframe tbody tr th:only-of-type {\n",
       "        vertical-align: middle;\n",
       "    }\n",
       "\n",
       "    .dataframe tbody tr th {\n",
       "        vertical-align: top;\n",
       "    }\n",
       "\n",
       "    .dataframe thead th {\n",
       "        text-align: right;\n",
       "    }\n",
       "</style>\n",
       "<table border=\"1\" class=\"dataframe\">\n",
       "  <thead>\n",
       "    <tr style=\"text-align: right;\">\n",
       "      <th></th>\n",
       "      <th>user_id</th>\n",
       "      <th>track_genre</th>\n",
       "      <th>listened</th>\n",
       "    </tr>\n",
       "  </thead>\n",
       "  <tbody>\n",
       "    <tr>\n",
       "      <th>0</th>\n",
       "      <td>a72d73ea124840698aa8</td>\n",
       "      <td>RAP</td>\n",
       "      <td>0.204709</td>\n",
       "    </tr>\n",
       "    <tr>\n",
       "      <th>1</th>\n",
       "      <td>066cc9287de340f281ba</td>\n",
       "      <td>VOCAL</td>\n",
       "      <td>0.128695</td>\n",
       "    </tr>\n",
       "    <tr>\n",
       "      <th>2</th>\n",
       "      <td>95ed23b52b104f66b4b1</td>\n",
       "      <td>METAL</td>\n",
       "      <td>0.161118</td>\n",
       "    </tr>\n",
       "    <tr>\n",
       "      <th>3</th>\n",
       "      <td>b0a6dcec6f604b50b37e</td>\n",
       "      <td>HARDROCK</td>\n",
       "      <td>0.985269</td>\n",
       "    </tr>\n",
       "    <tr>\n",
       "      <th>4</th>\n",
       "      <td>6788b1c78a724de488c9</td>\n",
       "      <td>POP</td>\n",
       "      <td>0.830608</td>\n",
       "    </tr>\n",
       "  </tbody>\n",
       "</table>\n",
       "</div>"
      ],
      "text/plain": [
       "                user_id track_genre  listened\n",
       "0  a72d73ea124840698aa8         RAP  0.204709\n",
       "1  066cc9287de340f281ba       VOCAL  0.128695\n",
       "2  95ed23b52b104f66b4b1       METAL  0.161118\n",
       "3  b0a6dcec6f604b50b37e    HARDROCK  0.985269\n",
       "4  6788b1c78a724de488c9         POP  0.830608"
      ]
     },
     "execution_count": 16,
     "metadata": {},
     "output_type": "execute_result"
    }
   ],
   "source": [
    "# выделим id пользователя, жанр трека и прослушанную долю в отдельный датафрейм\n",
    "df_new = df.loc[:, ['user_id', 'track_genre', 'listened']]\n",
    "df_new.head()"
   ]
  },
  {
   "cell_type": "code",
   "execution_count": 17,
   "metadata": {},
   "outputs": [
    {
     "data": {
      "image/png": "[encoded data removed]",
      "text/plain": [
       "<Figure size 432x288 with 1 Axes>"
      ]
     },
     "metadata": {
      "needs_background": "light"
     },
     "output_type": "display_data"
    }
   ],
   "source": [
    "sns.histplot(data=df_new, x='listened', stat='density')\n",
    "plt.title('Какую долю трека обычно слушают пользователи?')\n",
    "plt.xlabel('Прослушано, доля от длины трека')\n",
    "plt.ylabel('Плотность')\n",
    "plt.show()"
   ]
  },
  {
   "cell_type": "markdown",
   "metadata": {},
   "source": [
    "Наблюдаем бимодальное распределение - пользователь либо слушает трек до конца, либо сразу выключает."
   ]
  },
  {
   "cell_type": "code",
   "execution_count": 18,
   "metadata": {},
   "outputs": [
    {
     "data": {
      "text/plain": [
       "count    842397.00\n",
       "mean          0.65\n",
       "std           0.34\n",
       "min           0.00\n",
       "25%           0.27\n",
       "50%           0.81\n",
       "75%           0.93\n",
       "max           1.40\n",
       "Name: listened, dtype: float64"
      ]
     },
     "execution_count": 18,
     "metadata": {},
     "output_type": "execute_result"
    }
   ],
   "source": [
    "df_new.listened.describe().round(2)"
   ]
  },
  {
   "cell_type": "markdown",
   "metadata": {},
   "source": [
    "Некоторые треки прослушаны более, чем на 100%. Есть 3 гипотезы, почему так произошло:\n",
    "- Пользователь перематывал трек назад в процессе прослушивания,\n",
    "- Пользователь ставил трек на паузу во время прослушивания,\n",
    "- В данных о начале и конце прослушивания есть ошибки."
   ]
  },
  {
   "cell_type": "markdown",
   "metadata": {},
   "source": [
    "В первых двух случаях можно сказать, что пользователю скорее нравится трек. Чем дольше пользователь слушает трек, тем выше вероятность того, что он поставит его на паузу.\n",
    "\n",
    "Но на всякий случай уберем такие наблюдения из данных до выяснения обстоятельств."
   ]
  },
  {
   "cell_type": "code",
   "execution_count": 19,
   "metadata": {},
   "outputs": [
    {
     "name": "stdout",
     "output_type": "stream",
     "text": [
      "62029\n"
     ]
    }
   ],
   "source": [
    "print(df_new.query('listened > 1.0').count().listened)\n",
    "df_new = df_new.query('listened <= 1.0')"
   ]
  },
  {
   "cell_type": "code",
   "execution_count": 20,
   "metadata": {},
   "outputs": [],
   "source": [
    "# предположим, что пользователю понравился трек, если прослушано более 70%\n",
    "df_new['liked'] = df_new.listened >= 0.7"
   ]
  },
  {
   "cell_type": "code",
   "execution_count": 21,
   "metadata": {},
   "outputs": [
    {
     "data": {
      "image/png": "[encoded data removed]",
      "text/plain": [
       "<Figure size 576x432 with 1 Axes>"
      ]
     },
     "metadata": {
      "needs_background": "light"
     },
     "output_type": "display_data"
    }
   ],
   "source": [
    "df_genres = df_new.groupby('track_genre').liked.agg(['count', 'sum'])\n",
    "df_genres.rename(columns={'count': 'total_tracks', 'sum': 'liked_tracks'}, inplace=True)\n",
    "\n",
    "df_genres.sort_values(by='total_tracks').plot(kind='bar', figsize=(8, 6))\n",
    "plt.show()"
   ]
  },
  {
   "cell_type": "markdown",
   "metadata": {},
   "source": [
    "Наиболее популярными жанрами являются поп, рок и рэп. Техно занимает почетное 4 место."
   ]
  },
  {
   "cell_type": "code",
   "execution_count": 22,
   "metadata": {},
   "outputs": [
    {
     "data": {
      "image/png": "[encoded data removed]",
      "text/plain": [
       "<Figure size 432x288 with 1 Axes>"
      ]
     },
     "metadata": {
      "needs_background": "light"
     },
     "output_type": "display_data"
    }
   ],
   "source": [
    "(df_genres['liked_tracks'] / df_genres['total_tracks']).sort_values().plot(kind='bar')\n",
    "plt.show()"
   ]
  },
  {
   "cell_type": "markdown",
   "metadata": {},
   "source": [
    "В среднем пользователям нравится около 60% треков независимо от жанра."
   ]
  },
  {
   "cell_type": "code",
   "execution_count": 23,
   "metadata": {},
   "outputs": [
    {
     "data": {
      "image/png": "[encoded data removed]",
      "text/plain": [
       "<Figure size 432x288 with 1 Axes>"
      ]
     },
     "metadata": {
      "needs_background": "light"
     },
     "output_type": "display_data"
    }
   ],
   "source": [
    "df.groupby('track_genre').track_duration.mean().sort_values().plot(kind='bar')\n",
    "plt.show()"
   ]
  },
  {
   "cell_type": "markdown",
   "metadata": {},
   "source": [
    "Из научного интереса посмотрим среднюю длину треков по жанрам и наконец-то перейдем к созданию метрик."
   ]
  },
  {
   "cell_type": "markdown",
   "metadata": {},
   "source": [
    "## Решение"
   ]
  },
  {
   "cell_type": "markdown",
   "metadata": {},
   "source": [
    "Задачу можно сформулировать следующим образом: найти пользователей, которым нравится жанр техно. Для этого попробуем ввести некоторые количественные метрики."
   ]
  },
  {
   "cell_type": "markdown",
   "metadata": {},
   "source": [
    "### Метрика 1: доля понравившихся треков в жанре техно"
   ]
  },
  {
   "cell_type": "markdown",
   "metadata": {},
   "source": [
    "Для начала посмотрим, какой процент прослушанных треков в жанре техно нравится пользователю."
   ]
  },
  {
   "cell_type": "code",
   "execution_count": 24,
   "metadata": {},
   "outputs": [],
   "source": [
    "df_techno = df_new.query('track_genre == \"TECHNO\"')\n",
    "users = df_techno.groupby('user_id').liked.agg(['count', 'mean']).reset_index()\n",
    "users.rename(columns={'count': 'techno_listened', 'mean': 'techno_liked'}, inplace=True)\n",
    "users.sort_values(by='techno_liked', ascending=False, inplace=True)"
   ]
  },
  {
   "cell_type": "code",
   "execution_count": 25,
   "metadata": {},
   "outputs": [
    {
     "data": {
      "text/plain": [
       "0"
      ]
     },
     "execution_count": 25,
     "metadata": {},
     "output_type": "execute_result"
    }
   ],
   "source": [
    "df_new.user_id.nunique() - df_techno.user_id.nunique()"
   ]
  },
  {
   "cell_type": "code",
   "execution_count": 28,
   "metadata": {},
   "outputs": [
    {
     "data": {
      "image/png": "[encoded data removed]",
      "text/plain": [
       "<Figure size 432x288 with 1 Axes>"
      ]
     },
     "metadata": {
      "needs_background": "light"
     },
     "output_type": "display_data"
    }
   ],
   "source": [
    "sns.histplot(data=users, x='techno_listened')\n",
    "plt.show()"
   ]
  },
  {
   "cell_type": "markdown",
   "metadata": {},
   "source": [
    "В среднем пользователь слушает 20-50 треков в жанре техно."
   ]
  },
  {
   "cell_type": "code",
   "execution_count": 29,
   "metadata": {},
   "outputs": [
    {
     "data": {
      "image/png": "[encoded data removed]",
      "text/plain": [
       "<Figure size 432x288 with 1 Axes>"
      ]
     },
     "metadata": {
      "needs_background": "light"
     },
     "output_type": "display_data"
    }
   ],
   "source": [
    "sns.histplot(data=users, x='techno_liked')\n",
    "plt.show()"
   ]
  },
  {
   "cell_type": "markdown",
   "metadata": {},
   "source": [
    "В среднем пользователю нравится около 60% прослушанных треков, что мы уже поняли ранее."
   ]
  },
  {
   "cell_type": "markdown",
   "metadata": {},
   "source": [
    "### Метрика 2: доля техно среди понравившихся"
   ]
  },
  {
   "cell_type": "markdown",
   "metadata": {},
   "source": [
    "Теперь посмотрим, какой процент понравившихся пользователю песен приходится на техно. Если прошлая метрика показывала, насколько пользователю нравится жанр, то эта скорее говорит о \"важности\" жанра для пользователя."
   ]
  },
  {
   "cell_type": "code",
   "execution_count": 30,
   "metadata": {},
   "outputs": [
    {
     "data": {
      "text/html": [
       "<div>\n",
       "<style scoped>\n",
       "    .dataframe tbody tr th:only-of-type {\n",
       "        vertical-align: middle;\n",
       "    }\n",
       "\n",
       "    .dataframe tbody tr th {\n",
       "        vertical-align: top;\n",
       "    }\n",
       "\n",
       "    .dataframe thead th {\n",
       "        text-align: right;\n",
       "    }\n",
       "</style>\n",
       "<table border=\"1\" class=\"dataframe\">\n",
       "  <thead>\n",
       "    <tr style=\"text-align: right;\">\n",
       "      <th></th>\n",
       "      <th>user_id</th>\n",
       "      <th>track_genre</th>\n",
       "      <th>listened</th>\n",
       "      <th>liked</th>\n",
       "    </tr>\n",
       "  </thead>\n",
       "  <tbody>\n",
       "    <tr>\n",
       "      <th>3</th>\n",
       "      <td>b0a6dcec6f604b50b37e</td>\n",
       "      <td>HARDROCK</td>\n",
       "      <td>0.985269</td>\n",
       "      <td>True</td>\n",
       "    </tr>\n",
       "    <tr>\n",
       "      <th>4</th>\n",
       "      <td>6788b1c78a724de488c9</td>\n",
       "      <td>POP</td>\n",
       "      <td>0.830608</td>\n",
       "      <td>True</td>\n",
       "    </tr>\n",
       "    <tr>\n",
       "      <th>6</th>\n",
       "      <td>9769e98b78b449b384be</td>\n",
       "      <td>DUBSTEP</td>\n",
       "      <td>0.958672</td>\n",
       "      <td>True</td>\n",
       "    </tr>\n",
       "    <tr>\n",
       "      <th>9</th>\n",
       "      <td>5f8afde6e5fe4980b7cd</td>\n",
       "      <td>ROCK</td>\n",
       "      <td>0.914831</td>\n",
       "      <td>True</td>\n",
       "    </tr>\n",
       "    <tr>\n",
       "      <th>15</th>\n",
       "      <td>c9a4d16af97842a0b8e3</td>\n",
       "      <td>POP</td>\n",
       "      <td>0.900946</td>\n",
       "      <td>True</td>\n",
       "    </tr>\n",
       "  </tbody>\n",
       "</table>\n",
       "</div>"
      ],
      "text/plain": [
       "                 user_id track_genre  listened  liked\n",
       "3   b0a6dcec6f604b50b37e    HARDROCK  0.985269   True\n",
       "4   6788b1c78a724de488c9         POP  0.830608   True\n",
       "6   9769e98b78b449b384be     DUBSTEP  0.958672   True\n",
       "9   5f8afde6e5fe4980b7cd        ROCK  0.914831   True\n",
       "15  c9a4d16af97842a0b8e3         POP  0.900946   True"
      ]
     },
     "execution_count": 30,
     "metadata": {},
     "output_type": "execute_result"
    }
   ],
   "source": [
    "# Оставим только понравившиеся песни\n",
    "df_liked = df_new.query('liked == True')\n",
    "df_liked.head()"
   ]
  },
  {
   "cell_type": "code",
   "execution_count": 31,
   "metadata": {},
   "outputs": [
    {
     "data": {
      "text/html": [
       "<div>\n",
       "<style scoped>\n",
       "    .dataframe tbody tr th:only-of-type {\n",
       "        vertical-align: middle;\n",
       "    }\n",
       "\n",
       "    .dataframe tbody tr th {\n",
       "        vertical-align: top;\n",
       "    }\n",
       "\n",
       "    .dataframe thead th {\n",
       "        text-align: right;\n",
       "    }\n",
       "</style>\n",
       "<table border=\"1\" class=\"dataframe\">\n",
       "  <thead>\n",
       "    <tr style=\"text-align: right;\">\n",
       "      <th>track_genre</th>\n",
       "      <th>BLUES</th>\n",
       "      <th>CLASSICAL</th>\n",
       "      <th>DANCE</th>\n",
       "      <th>DISCO</th>\n",
       "      <th>DUBSTEP</th>\n",
       "      <th>ELECTRONICS</th>\n",
       "      <th>HARDROCK</th>\n",
       "      <th>HOUSE</th>\n",
       "      <th>INDUSTRIAL</th>\n",
       "      <th>JAZZ</th>\n",
       "      <th>...</th>\n",
       "      <th>PODCASTS</th>\n",
       "      <th>POP</th>\n",
       "      <th>POSTROCK</th>\n",
       "      <th>PUNK</th>\n",
       "      <th>RAP</th>\n",
       "      <th>RELAX</th>\n",
       "      <th>RNB</th>\n",
       "      <th>ROCK</th>\n",
       "      <th>TECHNO</th>\n",
       "      <th>VOCAL</th>\n",
       "    </tr>\n",
       "    <tr>\n",
       "      <th>user_id</th>\n",
       "      <th></th>\n",
       "      <th></th>\n",
       "      <th></th>\n",
       "      <th></th>\n",
       "      <th></th>\n",
       "      <th></th>\n",
       "      <th></th>\n",
       "      <th></th>\n",
       "      <th></th>\n",
       "      <th></th>\n",
       "      <th></th>\n",
       "      <th></th>\n",
       "      <th></th>\n",
       "      <th></th>\n",
       "      <th></th>\n",
       "      <th></th>\n",
       "      <th></th>\n",
       "      <th></th>\n",
       "      <th></th>\n",
       "      <th></th>\n",
       "      <th></th>\n",
       "    </tr>\n",
       "  </thead>\n",
       "  <tbody>\n",
       "    <tr>\n",
       "      <th>002123faf66b47b5aafa</th>\n",
       "      <td>1</td>\n",
       "      <td>2</td>\n",
       "      <td>9</td>\n",
       "      <td>3</td>\n",
       "      <td>5</td>\n",
       "      <td>6</td>\n",
       "      <td>9</td>\n",
       "      <td>4</td>\n",
       "      <td>4</td>\n",
       "      <td>2</td>\n",
       "      <td>...</td>\n",
       "      <td>8</td>\n",
       "      <td>34</td>\n",
       "      <td>0</td>\n",
       "      <td>4</td>\n",
       "      <td>23</td>\n",
       "      <td>1</td>\n",
       "      <td>7</td>\n",
       "      <td>16</td>\n",
       "      <td>10</td>\n",
       "      <td>12</td>\n",
       "    </tr>\n",
       "    <tr>\n",
       "      <th>0041383820e248e487a6</th>\n",
       "      <td>5</td>\n",
       "      <td>5</td>\n",
       "      <td>11</td>\n",
       "      <td>9</td>\n",
       "      <td>42</td>\n",
       "      <td>19</td>\n",
       "      <td>29</td>\n",
       "      <td>12</td>\n",
       "      <td>10</td>\n",
       "      <td>3</td>\n",
       "      <td>...</td>\n",
       "      <td>39</td>\n",
       "      <td>108</td>\n",
       "      <td>0</td>\n",
       "      <td>6</td>\n",
       "      <td>54</td>\n",
       "      <td>5</td>\n",
       "      <td>16</td>\n",
       "      <td>59</td>\n",
       "      <td>39</td>\n",
       "      <td>26</td>\n",
       "    </tr>\n",
       "    <tr>\n",
       "      <th>008005a451764a63aa3f</th>\n",
       "      <td>5</td>\n",
       "      <td>1</td>\n",
       "      <td>6</td>\n",
       "      <td>10</td>\n",
       "      <td>22</td>\n",
       "      <td>14</td>\n",
       "      <td>21</td>\n",
       "      <td>3</td>\n",
       "      <td>7</td>\n",
       "      <td>0</td>\n",
       "      <td>...</td>\n",
       "      <td>20</td>\n",
       "      <td>66</td>\n",
       "      <td>2</td>\n",
       "      <td>2</td>\n",
       "      <td>41</td>\n",
       "      <td>4</td>\n",
       "      <td>4</td>\n",
       "      <td>37</td>\n",
       "      <td>22</td>\n",
       "      <td>17</td>\n",
       "    </tr>\n",
       "    <tr>\n",
       "      <th>00c017dc34254d39a390</th>\n",
       "      <td>1</td>\n",
       "      <td>1</td>\n",
       "      <td>6</td>\n",
       "      <td>10</td>\n",
       "      <td>20</td>\n",
       "      <td>25</td>\n",
       "      <td>15</td>\n",
       "      <td>7</td>\n",
       "      <td>10</td>\n",
       "      <td>2</td>\n",
       "      <td>...</td>\n",
       "      <td>19</td>\n",
       "      <td>59</td>\n",
       "      <td>0</td>\n",
       "      <td>4</td>\n",
       "      <td>25</td>\n",
       "      <td>3</td>\n",
       "      <td>8</td>\n",
       "      <td>43</td>\n",
       "      <td>33</td>\n",
       "      <td>15</td>\n",
       "    </tr>\n",
       "    <tr>\n",
       "      <th>00f628a2f8044ae18d88</th>\n",
       "      <td>1</td>\n",
       "      <td>1</td>\n",
       "      <td>5</td>\n",
       "      <td>5</td>\n",
       "      <td>7</td>\n",
       "      <td>8</td>\n",
       "      <td>14</td>\n",
       "      <td>3</td>\n",
       "      <td>5</td>\n",
       "      <td>1</td>\n",
       "      <td>...</td>\n",
       "      <td>19</td>\n",
       "      <td>44</td>\n",
       "      <td>1</td>\n",
       "      <td>2</td>\n",
       "      <td>18</td>\n",
       "      <td>1</td>\n",
       "      <td>8</td>\n",
       "      <td>25</td>\n",
       "      <td>22</td>\n",
       "      <td>7</td>\n",
       "    </tr>\n",
       "  </tbody>\n",
       "</table>\n",
       "<p>5 rows × 22 columns</p>\n",
       "</div>"
      ],
      "text/plain": [
       "track_genre           BLUES  CLASSICAL  DANCE  DISCO  DUBSTEP  ELECTRONICS  \\\n",
       "user_id                                                                      \n",
       "002123faf66b47b5aafa      1          2      9      3        5            6   \n",
       "0041383820e248e487a6      5          5     11      9       42           19   \n",
       "008005a451764a63aa3f      5          1      6     10       22           14   \n",
       "00c017dc34254d39a390      1          1      6     10       20           25   \n",
       "00f628a2f8044ae18d88      1          1      5      5        7            8   \n",
       "\n",
       "track_genre           HARDROCK  HOUSE  INDUSTRIAL  JAZZ  ...  PODCASTS  POP  \\\n",
       "user_id                                                  ...                  \n",
       "002123faf66b47b5aafa         9      4           4     2  ...         8   34   \n",
       "0041383820e248e487a6        29     12          10     3  ...        39  108   \n",
       "008005a451764a63aa3f        21      3           7     0  ...        20   66   \n",
       "00c017dc34254d39a390        15      7          10     2  ...        19   59   \n",
       "00f628a2f8044ae18d88        14      3           5     1  ...        19   44   \n",
       "\n",
       "track_genre           POSTROCK  PUNK  RAP  RELAX  RNB  ROCK  TECHNO  VOCAL  \n",
       "user_id                                                                     \n",
       "002123faf66b47b5aafa         0     4   23      1    7    16      10     12  \n",
       "0041383820e248e487a6         0     6   54      5   16    59      39     26  \n",
       "008005a451764a63aa3f         2     2   41      4    4    37      22     17  \n",
       "00c017dc34254d39a390         0     4   25      3    8    43      33     15  \n",
       "00f628a2f8044ae18d88         1     2   18      1    8    25      22      7  \n",
       "\n",
       "[5 rows x 22 columns]"
      ]
     },
     "execution_count": 31,
     "metadata": {},
     "output_type": "execute_result"
    }
   ],
   "source": [
    "# Посчитаем количество песен каждого жанра по пользователям\n",
    "df_liked_genres = pd.pivot_table(df_liked, index='user_id', columns='track_genre',\n",
    "                                    values='liked', aggfunc='count')\n",
    "\n",
    "df_liked_genres = df_liked_genres.fillna(0).astype(int)\n",
    "df_liked_genres.head()"
   ]
  },
  {
   "cell_type": "code",
   "execution_count": 32,
   "metadata": {},
   "outputs": [
    {
     "data": {
      "text/html": [
       "<div>\n",
       "<style scoped>\n",
       "    .dataframe tbody tr th:only-of-type {\n",
       "        vertical-align: middle;\n",
       "    }\n",
       "\n",
       "    .dataframe tbody tr th {\n",
       "        vertical-align: top;\n",
       "    }\n",
       "\n",
       "    .dataframe thead th {\n",
       "        text-align: right;\n",
       "    }\n",
       "</style>\n",
       "<table border=\"1\" class=\"dataframe\">\n",
       "  <thead>\n",
       "    <tr style=\"text-align: right;\">\n",
       "      <th></th>\n",
       "      <th>user_id</th>\n",
       "      <th>techno_share</th>\n",
       "    </tr>\n",
       "  </thead>\n",
       "  <tbody>\n",
       "    <tr>\n",
       "      <th>0</th>\n",
       "      <td>002123faf66b47b5aafa</td>\n",
       "      <td>0.056180</td>\n",
       "    </tr>\n",
       "    <tr>\n",
       "      <th>1</th>\n",
       "      <td>0041383820e248e487a6</td>\n",
       "      <td>0.069892</td>\n",
       "    </tr>\n",
       "    <tr>\n",
       "      <th>2</th>\n",
       "      <td>008005a451764a63aa3f</td>\n",
       "      <td>0.065282</td>\n",
       "    </tr>\n",
       "    <tr>\n",
       "      <th>3</th>\n",
       "      <td>00c017dc34254d39a390</td>\n",
       "      <td>0.094017</td>\n",
       "    </tr>\n",
       "    <tr>\n",
       "      <th>4</th>\n",
       "      <td>00f628a2f8044ae18d88</td>\n",
       "      <td>0.097345</td>\n",
       "    </tr>\n",
       "  </tbody>\n",
       "</table>\n",
       "</div>"
      ],
      "text/plain": [
       "                user_id  techno_share\n",
       "0  002123faf66b47b5aafa      0.056180\n",
       "1  0041383820e248e487a6      0.069892\n",
       "2  008005a451764a63aa3f      0.065282\n",
       "3  00c017dc34254d39a390      0.094017\n",
       "4  00f628a2f8044ae18d88      0.097345"
      ]
     },
     "execution_count": 32,
     "metadata": {},
     "output_type": "execute_result"
    }
   ],
   "source": [
    "liked_techno_share = df_liked_genres.TECHNO / df_liked_genres.sum(axis=1)\n",
    "liked_techno_share = liked_techno_share.reset_index()\n",
    "liked_techno_share.rename(columns={0: 'techno_share'}, inplace=True)\n",
    "liked_techno_share.head()"
   ]
  },
  {
   "cell_type": "code",
   "execution_count": 33,
   "metadata": {},
   "outputs": [
    {
     "data": {
      "image/png": "[encoded data removed]",
      "text/plain": [
       "<Figure size 432x288 with 1 Axes>"
      ]
     },
     "metadata": {
      "needs_background": "light"
     },
     "output_type": "display_data"
    }
   ],
   "source": [
    "liked_techno_share.hist(bins=20, grid=False)\n",
    "plt.show()"
   ]
  },
  {
   "cell_type": "markdown",
   "metadata": {},
   "source": [
    "В среднем техно занимает 6-8% среди понравившихся пользователю треков."
   ]
  },
  {
   "cell_type": "code",
   "execution_count": 34,
   "metadata": {},
   "outputs": [],
   "source": [
    "users = users.merge(liked_techno_share, on='user_id')"
   ]
  },
  {
   "cell_type": "code",
   "execution_count": 35,
   "metadata": {},
   "outputs": [
    {
     "data": {
      "image/png": "[encoded data removed]",
      "text/plain": [
       "<Figure size 432x288 with 1 Axes>"
      ]
     },
     "metadata": {
      "needs_background": "light"
     },
     "output_type": "display_data"
    }
   ],
   "source": [
    "sns.scatterplot(data=users, x='techno_liked', y='techno_share')\n",
    "plt.show()"
   ]
  },
  {
   "cell_type": "markdown",
   "metadata": {},
   "source": [
    "Между первой и второй метрикой наблюдается положительная корреляция."
   ]
  },
  {
   "cell_type": "markdown",
   "metadata": {},
   "source": [
    "### Метрика 3: скоринг по техно"
   ]
  },
  {
   "cell_type": "markdown",
   "metadata": {},
   "source": [
    "Недостатком первой метрики является то, что она игнорирует количество прослушанных песен. Можно попробовать ввести некоторую систему очков для оценки заинтересованности пользователя в жанре техно - начислять баллы за понравившиеся песни и снимать в обратном случае."
   ]
  },
  {
   "cell_type": "code",
   "execution_count": 36,
   "metadata": {},
   "outputs": [],
   "source": [
    "df_score = df_new"
   ]
  },
  {
   "cell_type": "code",
   "execution_count": 37,
   "metadata": {},
   "outputs": [],
   "source": [
    "def score(x):\n",
    "    if x <= 0.3:\n",
    "        return -1  # вычитаем балл, если прослушано менее 30% песни\n",
    "    elif x >= 0.7:\n",
    "        return 1  # добавляем балл, если прослушано более 70% песни\n",
    "    else:\n",
    "        return 0"
   ]
  },
  {
   "cell_type": "code",
   "execution_count": 38,
   "metadata": {},
   "outputs": [],
   "source": [
    "df_score['score'] = df_score.listened.apply(score)"
   ]
  },
  {
   "cell_type": "code",
   "execution_count": 39,
   "metadata": {},
   "outputs": [
    {
     "data": {
      "text/html": [
       "<div>\n",
       "<style scoped>\n",
       "    .dataframe tbody tr th:only-of-type {\n",
       "        vertical-align: middle;\n",
       "    }\n",
       "\n",
       "    .dataframe tbody tr th {\n",
       "        vertical-align: top;\n",
       "    }\n",
       "\n",
       "    .dataframe thead th {\n",
       "        text-align: right;\n",
       "    }\n",
       "</style>\n",
       "<table border=\"1\" class=\"dataframe\">\n",
       "  <thead>\n",
       "    <tr style=\"text-align: right;\">\n",
       "      <th></th>\n",
       "      <th>user_id</th>\n",
       "      <th>score</th>\n",
       "    </tr>\n",
       "  </thead>\n",
       "  <tbody>\n",
       "    <tr>\n",
       "      <th>0</th>\n",
       "      <td>002123faf66b47b5aafa</td>\n",
       "      <td>4</td>\n",
       "    </tr>\n",
       "    <tr>\n",
       "      <th>1</th>\n",
       "      <td>0041383820e248e487a6</td>\n",
       "      <td>17</td>\n",
       "    </tr>\n",
       "    <tr>\n",
       "      <th>2</th>\n",
       "      <td>008005a451764a63aa3f</td>\n",
       "      <td>9</td>\n",
       "    </tr>\n",
       "    <tr>\n",
       "      <th>3</th>\n",
       "      <td>00c017dc34254d39a390</td>\n",
       "      <td>23</td>\n",
       "    </tr>\n",
       "    <tr>\n",
       "      <th>4</th>\n",
       "      <td>00f628a2f8044ae18d88</td>\n",
       "      <td>15</td>\n",
       "    </tr>\n",
       "  </tbody>\n",
       "</table>\n",
       "</div>"
      ],
      "text/plain": [
       "                user_id  score\n",
       "0  002123faf66b47b5aafa      4\n",
       "1  0041383820e248e487a6     17\n",
       "2  008005a451764a63aa3f      9\n",
       "3  00c017dc34254d39a390     23\n",
       "4  00f628a2f8044ae18d88     15"
      ]
     },
     "execution_count": 39,
     "metadata": {},
     "output_type": "execute_result"
    }
   ],
   "source": [
    "user_scores = df_score.query('track_genre == \"TECHNO\"').groupby('user_id').score.sum().reset_index()\n",
    "user_scores.head()"
   ]
  },
  {
   "cell_type": "code",
   "execution_count": 40,
   "metadata": {},
   "outputs": [
    {
     "data": {
      "text/html": [
       "<div>\n",
       "<style scoped>\n",
       "    .dataframe tbody tr th:only-of-type {\n",
       "        vertical-align: middle;\n",
       "    }\n",
       "\n",
       "    .dataframe tbody tr th {\n",
       "        vertical-align: top;\n",
       "    }\n",
       "\n",
       "    .dataframe thead th {\n",
       "        text-align: right;\n",
       "    }\n",
       "</style>\n",
       "<table border=\"1\" class=\"dataframe\">\n",
       "  <thead>\n",
       "    <tr style=\"text-align: right;\">\n",
       "      <th></th>\n",
       "      <th>user_id</th>\n",
       "      <th>techno_listened</th>\n",
       "      <th>techno_liked</th>\n",
       "      <th>techno_share</th>\n",
       "      <th>score</th>\n",
       "    </tr>\n",
       "  </thead>\n",
       "  <tbody>\n",
       "    <tr>\n",
       "      <th>0</th>\n",
       "      <td>aa770bfbbd544ef4948a</td>\n",
       "      <td>3</td>\n",
       "      <td>1.000000</td>\n",
       "      <td>0.032609</td>\n",
       "      <td>3</td>\n",
       "    </tr>\n",
       "    <tr>\n",
       "      <th>1</th>\n",
       "      <td>30bfa0fadeec4470aa4c</td>\n",
       "      <td>9</td>\n",
       "      <td>1.000000</td>\n",
       "      <td>0.064286</td>\n",
       "      <td>9</td>\n",
       "    </tr>\n",
       "    <tr>\n",
       "      <th>2</th>\n",
       "      <td>c7ad39e16a03419caff5</td>\n",
       "      <td>9</td>\n",
       "      <td>0.888889</td>\n",
       "      <td>0.060606</td>\n",
       "      <td>8</td>\n",
       "    </tr>\n",
       "    <tr>\n",
       "      <th>3</th>\n",
       "      <td>3c5ed26e27b0463eb81f</td>\n",
       "      <td>8</td>\n",
       "      <td>0.875000</td>\n",
       "      <td>0.074468</td>\n",
       "      <td>6</td>\n",
       "    </tr>\n",
       "    <tr>\n",
       "      <th>4</th>\n",
       "      <td>90b9479eba4349189878</td>\n",
       "      <td>23</td>\n",
       "      <td>0.869565</td>\n",
       "      <td>0.110497</td>\n",
       "      <td>19</td>\n",
       "    </tr>\n",
       "  </tbody>\n",
       "</table>\n",
       "</div>"
      ],
      "text/plain": [
       "                user_id  techno_listened  techno_liked  techno_share  score\n",
       "0  aa770bfbbd544ef4948a                3      1.000000      0.032609      3\n",
       "1  30bfa0fadeec4470aa4c                9      1.000000      0.064286      9\n",
       "2  c7ad39e16a03419caff5                9      0.888889      0.060606      8\n",
       "3  3c5ed26e27b0463eb81f                8      0.875000      0.074468      6\n",
       "4  90b9479eba4349189878               23      0.869565      0.110497     19"
      ]
     },
     "execution_count": 40,
     "metadata": {},
     "output_type": "execute_result"
    }
   ],
   "source": [
    "users = users.merge(user_scores)\n",
    "users.head()"
   ]
  },
  {
   "cell_type": "markdown",
   "metadata": {},
   "source": [
    "### Метрика 4: скоринг по близким жанрам"
   ]
  },
  {
   "cell_type": "markdown",
   "metadata": {},
   "source": [
    "Третью метрику можно немного изменить для оценки родственных жанров: электроника, танцевальная, хаус. На Яндекс Музыке они вынесены в одну группу, а у большинства техно-исполнителей в профиле указан именно такой набор музыкальных направлений. Можно предположить, что любителям техно нравится вышеуказанные жанры."
   ]
  },
  {
   "cell_type": "code",
   "execution_count": 41,
   "metadata": {},
   "outputs": [
    {
     "data": {
      "text/html": [
       "<div>\n",
       "<style scoped>\n",
       "    .dataframe tbody tr th:only-of-type {\n",
       "        vertical-align: middle;\n",
       "    }\n",
       "\n",
       "    .dataframe tbody tr th {\n",
       "        vertical-align: top;\n",
       "    }\n",
       "\n",
       "    .dataframe thead th {\n",
       "        text-align: right;\n",
       "    }\n",
       "</style>\n",
       "<table border=\"1\" class=\"dataframe\">\n",
       "  <thead>\n",
       "    <tr style=\"text-align: right;\">\n",
       "      <th></th>\n",
       "      <th>user_id</th>\n",
       "      <th>track_genre</th>\n",
       "      <th>listened</th>\n",
       "      <th>liked</th>\n",
       "      <th>score</th>\n",
       "    </tr>\n",
       "  </thead>\n",
       "  <tbody>\n",
       "    <tr>\n",
       "      <th>8</th>\n",
       "      <td>3a66082e6a3941f591e1</td>\n",
       "      <td>ELECTRONICS</td>\n",
       "      <td>0.500405</td>\n",
       "      <td>False</td>\n",
       "      <td>0</td>\n",
       "    </tr>\n",
       "    <tr>\n",
       "      <th>14</th>\n",
       "      <td>20d9fc62bebb4f3c99b1</td>\n",
       "      <td>TECHNO</td>\n",
       "      <td>0.187383</td>\n",
       "      <td>False</td>\n",
       "      <td>-1</td>\n",
       "    </tr>\n",
       "    <tr>\n",
       "      <th>18</th>\n",
       "      <td>d8b0e8c218184184ad86</td>\n",
       "      <td>TECHNO</td>\n",
       "      <td>0.752797</td>\n",
       "      <td>True</td>\n",
       "      <td>1</td>\n",
       "    </tr>\n",
       "    <tr>\n",
       "      <th>23</th>\n",
       "      <td>bc44aaf2a590402684b7</td>\n",
       "      <td>TECHNO</td>\n",
       "      <td>0.165958</td>\n",
       "      <td>False</td>\n",
       "      <td>-1</td>\n",
       "    </tr>\n",
       "    <tr>\n",
       "      <th>26</th>\n",
       "      <td>88406b284c544698b48c</td>\n",
       "      <td>TECHNO</td>\n",
       "      <td>0.838832</td>\n",
       "      <td>True</td>\n",
       "      <td>1</td>\n",
       "    </tr>\n",
       "  </tbody>\n",
       "</table>\n",
       "</div>"
      ],
      "text/plain": [
       "                 user_id  track_genre  listened  liked  score\n",
       "8   3a66082e6a3941f591e1  ELECTRONICS  0.500405  False      0\n",
       "14  20d9fc62bebb4f3c99b1       TECHNO  0.187383  False     -1\n",
       "18  d8b0e8c218184184ad86       TECHNO  0.752797   True      1\n",
       "23  bc44aaf2a590402684b7       TECHNO  0.165958  False     -1\n",
       "26  88406b284c544698b48c       TECHNO  0.838832   True      1"
      ]
     },
     "execution_count": 41,
     "metadata": {},
     "output_type": "execute_result"
    }
   ],
   "source": [
    "close_genres = ['TECHNO', 'ELECTRONICS', 'HOUSE', 'DANCE']\n",
    "df_close = df_new.query('track_genre in @close_genres')\n",
    "df_close.head()"
   ]
  },
  {
   "cell_type": "code",
   "execution_count": 42,
   "metadata": {},
   "outputs": [],
   "source": [
    "df_close_score = pd.pivot_table(df_close, index='user_id', columns='track_genre', values='score', aggfunc='sum').fillna(0).astype(int)"
   ]
  },
  {
   "cell_type": "code",
   "execution_count": 43,
   "metadata": {},
   "outputs": [
    {
     "data": {
      "text/html": [
       "<div>\n",
       "<style scoped>\n",
       "    .dataframe tbody tr th:only-of-type {\n",
       "        vertical-align: middle;\n",
       "    }\n",
       "\n",
       "    .dataframe tbody tr th {\n",
       "        vertical-align: top;\n",
       "    }\n",
       "\n",
       "    .dataframe thead th {\n",
       "        text-align: right;\n",
       "    }\n",
       "</style>\n",
       "<table border=\"1\" class=\"dataframe\">\n",
       "  <thead>\n",
       "    <tr style=\"text-align: right;\">\n",
       "      <th>track_genre</th>\n",
       "      <th>DANCE</th>\n",
       "      <th>ELECTRONICS</th>\n",
       "      <th>HOUSE</th>\n",
       "      <th>TECHNO</th>\n",
       "    </tr>\n",
       "    <tr>\n",
       "      <th>track_genre</th>\n",
       "      <th></th>\n",
       "      <th></th>\n",
       "      <th></th>\n",
       "      <th></th>\n",
       "    </tr>\n",
       "  </thead>\n",
       "  <tbody>\n",
       "    <tr>\n",
       "      <th>DANCE</th>\n",
       "      <td>1.000000</td>\n",
       "      <td>0.074890</td>\n",
       "      <td>0.110495</td>\n",
       "      <td>0.149103</td>\n",
       "    </tr>\n",
       "    <tr>\n",
       "      <th>ELECTRONICS</th>\n",
       "      <td>0.074890</td>\n",
       "      <td>1.000000</td>\n",
       "      <td>0.106584</td>\n",
       "      <td>0.161018</td>\n",
       "    </tr>\n",
       "    <tr>\n",
       "      <th>HOUSE</th>\n",
       "      <td>0.110495</td>\n",
       "      <td>0.106584</td>\n",
       "      <td>1.000000</td>\n",
       "      <td>0.123531</td>\n",
       "    </tr>\n",
       "    <tr>\n",
       "      <th>TECHNO</th>\n",
       "      <td>0.149103</td>\n",
       "      <td>0.161018</td>\n",
       "      <td>0.123531</td>\n",
       "      <td>1.000000</td>\n",
       "    </tr>\n",
       "  </tbody>\n",
       "</table>\n",
       "</div>"
      ],
      "text/plain": [
       "track_genre     DANCE  ELECTRONICS     HOUSE    TECHNO\n",
       "track_genre                                           \n",
       "DANCE        1.000000     0.074890  0.110495  0.149103\n",
       "ELECTRONICS  0.074890     1.000000  0.106584  0.161018\n",
       "HOUSE        0.110495     0.106584  1.000000  0.123531\n",
       "TECHNO       0.149103     0.161018  0.123531  1.000000"
      ]
     },
     "execution_count": 43,
     "metadata": {},
     "output_type": "execute_result"
    }
   ],
   "source": [
    "df_close_score.corr()"
   ]
  },
  {
   "cell_type": "markdown",
   "metadata": {},
   "source": [
    "Корреляция между жанрами очень низкая. Гипотеза опровергнута, поэтому смело отказываемся от этой метрики."
   ]
  },
  {
   "cell_type": "markdown",
   "metadata": {},
   "source": [
    "### Ранжирование пользователей по метрикам"
   ]
  },
  {
   "cell_type": "markdown",
   "metadata": {},
   "source": [
    "Теперь, когда мы выделили несколько метрик, можно попытаться проранжировать пользователей от самых заинтересованных до тех, кого точно не стоит звать на фестиваль техно."
   ]
  },
  {
   "cell_type": "code",
   "execution_count": 44,
   "metadata": {},
   "outputs": [
    {
     "data": {
      "image/png": "[encoded data removed]",
      "text/plain": [
       "<Figure size 432x288 with 2 Axes>"
      ]
     },
     "metadata": {
      "needs_background": "light"
     },
     "output_type": "display_data"
    }
   ],
   "source": [
    "# между метриками есть положительные корреляции\n",
    "sns.heatmap(users.corr(), annot=True)\n",
    "plt.show()"
   ]
  },
  {
   "cell_type": "code",
   "execution_count": 45,
   "metadata": {},
   "outputs": [
    {
     "data": {
      "text/html": [
       "<div>\n",
       "<style scoped>\n",
       "    .dataframe tbody tr th:only-of-type {\n",
       "        vertical-align: middle;\n",
       "    }\n",
       "\n",
       "    .dataframe tbody tr th {\n",
       "        vertical-align: top;\n",
       "    }\n",
       "\n",
       "    .dataframe thead th {\n",
       "        text-align: right;\n",
       "    }\n",
       "</style>\n",
       "<table border=\"1\" class=\"dataframe\">\n",
       "  <thead>\n",
       "    <tr style=\"text-align: right;\">\n",
       "      <th></th>\n",
       "      <th>user_id</th>\n",
       "      <th>techno_listened</th>\n",
       "      <th>techno_liked</th>\n",
       "      <th>techno_share</th>\n",
       "      <th>score</th>\n",
       "      <th>listened_rank</th>\n",
       "      <th>liked_rank</th>\n",
       "      <th>share_rank</th>\n",
       "      <th>score_rank</th>\n",
       "    </tr>\n",
       "  </thead>\n",
       "  <tbody>\n",
       "    <tr>\n",
       "      <th>134</th>\n",
       "      <td>8232810d6053485db42b</td>\n",
       "      <td>63</td>\n",
       "      <td>0.698413</td>\n",
       "      <td>0.112821</td>\n",
       "      <td>33</td>\n",
       "      <td>5</td>\n",
       "      <td>134</td>\n",
       "      <td>22</td>\n",
       "      <td>0</td>\n",
       "    </tr>\n",
       "    <tr>\n",
       "      <th>437</th>\n",
       "      <td>43c91473008345efa8b0</td>\n",
       "      <td>67</td>\n",
       "      <td>0.626866</td>\n",
       "      <td>0.097674</td>\n",
       "      <td>32</td>\n",
       "      <td>3</td>\n",
       "      <td>437</td>\n",
       "      <td>119</td>\n",
       "      <td>1</td>\n",
       "    </tr>\n",
       "    <tr>\n",
       "      <th>154</th>\n",
       "      <td>11682c22c0584ede9314</td>\n",
       "      <td>58</td>\n",
       "      <td>0.689655</td>\n",
       "      <td>0.080972</td>\n",
       "      <td>31</td>\n",
       "      <td>16</td>\n",
       "      <td>152</td>\n",
       "      <td>411</td>\n",
       "      <td>2</td>\n",
       "    </tr>\n",
       "    <tr>\n",
       "      <th>24</th>\n",
       "      <td>825596f1cf1d4da7a957</td>\n",
       "      <td>46</td>\n",
       "      <td>0.782609</td>\n",
       "      <td>0.115016</td>\n",
       "      <td>30</td>\n",
       "      <td>173</td>\n",
       "      <td>23</td>\n",
       "      <td>17</td>\n",
       "      <td>3</td>\n",
       "    </tr>\n",
       "    <tr>\n",
       "      <th>217</th>\n",
       "      <td>bcec45de095c456ea61e</td>\n",
       "      <td>55</td>\n",
       "      <td>0.672727</td>\n",
       "      <td>0.092269</td>\n",
       "      <td>28</td>\n",
       "      <td>29</td>\n",
       "      <td>218</td>\n",
       "      <td>176</td>\n",
       "      <td>4</td>\n",
       "    </tr>\n",
       "  </tbody>\n",
       "</table>\n",
       "</div>"
      ],
      "text/plain": [
       "                  user_id  techno_listened  techno_liked  techno_share  score  \\\n",
       "134  8232810d6053485db42b               63      0.698413      0.112821     33   \n",
       "437  43c91473008345efa8b0               67      0.626866      0.097674     32   \n",
       "154  11682c22c0584ede9314               58      0.689655      0.080972     31   \n",
       "24   825596f1cf1d4da7a957               46      0.782609      0.115016     30   \n",
       "217  bcec45de095c456ea61e               55      0.672727      0.092269     28   \n",
       "\n",
       "     listened_rank  liked_rank  share_rank  score_rank  \n",
       "134              5         134          22           0  \n",
       "437              3         437         119           1  \n",
       "154             16         152         411           2  \n",
       "24             173          23          17           3  \n",
       "217             29         218         176           4  "
      ]
     },
     "execution_count": 45,
     "metadata": {},
     "output_type": "execute_result"
    }
   ],
   "source": [
    "# проранжируем пользователей\n",
    "users.sort_values(by='techno_listened', ascending=False, inplace=True)\n",
    "users['listened_rank'] = users.reset_index().index\n",
    "\n",
    "users.sort_values(by='techno_liked', ascending=False, inplace=True)\n",
    "users['liked_rank'] = users.reset_index().index\n",
    "\n",
    "users.sort_values(by='techno_share', ascending=False, inplace=True)\n",
    "users['share_rank'] = users.reset_index().index\n",
    "\n",
    "users.sort_values(by='score', ascending=False, inplace=True)\n",
    "users['score_rank'] = users.reset_index().index\n",
    "\n",
    "users.head()"
   ]
  },
  {
   "cell_type": "markdown",
   "metadata": {},
   "source": [
    "Мы получили ранг пользователя для каждой из метрик. Чем ранг меньше, тем больше мы уверены, что пользователь заинтересован в нашем предложении."
   ]
  },
  {
   "cell_type": "code",
   "execution_count": 46,
   "metadata": {},
   "outputs": [
    {
     "data": {
      "text/html": [
       "<div>\n",
       "<style scoped>\n",
       "    .dataframe tbody tr th:only-of-type {\n",
       "        vertical-align: middle;\n",
       "    }\n",
       "\n",
       "    .dataframe tbody tr th {\n",
       "        vertical-align: top;\n",
       "    }\n",
       "\n",
       "    .dataframe thead th {\n",
       "        text-align: right;\n",
       "    }\n",
       "</style>\n",
       "<table border=\"1\" class=\"dataframe\">\n",
       "  <thead>\n",
       "    <tr style=\"text-align: right;\">\n",
       "      <th></th>\n",
       "      <th>user_id</th>\n",
       "      <th>techno_listened</th>\n",
       "      <th>techno_liked</th>\n",
       "      <th>techno_share</th>\n",
       "      <th>score</th>\n",
       "      <th>listened_rank</th>\n",
       "      <th>liked_rank</th>\n",
       "      <th>share_rank</th>\n",
       "      <th>score_rank</th>\n",
       "      <th>total_rank</th>\n",
       "    </tr>\n",
       "  </thead>\n",
       "  <tbody>\n",
       "    <tr>\n",
       "      <th>134</th>\n",
       "      <td>8232810d6053485db42b</td>\n",
       "      <td>63</td>\n",
       "      <td>0.698413</td>\n",
       "      <td>0.112821</td>\n",
       "      <td>33</td>\n",
       "      <td>5</td>\n",
       "      <td>134</td>\n",
       "      <td>22</td>\n",
       "      <td>0</td>\n",
       "      <td>161</td>\n",
       "    </tr>\n",
       "    <tr>\n",
       "      <th>92</th>\n",
       "      <td>4ccf7523ffe4420da841</td>\n",
       "      <td>52</td>\n",
       "      <td>0.711538</td>\n",
       "      <td>0.108187</td>\n",
       "      <td>28</td>\n",
       "      <td>69</td>\n",
       "      <td>92</td>\n",
       "      <td>39</td>\n",
       "      <td>6</td>\n",
       "      <td>206</td>\n",
       "    </tr>\n",
       "    <tr>\n",
       "      <th>24</th>\n",
       "      <td>825596f1cf1d4da7a957</td>\n",
       "      <td>46</td>\n",
       "      <td>0.782609</td>\n",
       "      <td>0.115016</td>\n",
       "      <td>30</td>\n",
       "      <td>173</td>\n",
       "      <td>23</td>\n",
       "      <td>17</td>\n",
       "      <td>3</td>\n",
       "      <td>216</td>\n",
       "    </tr>\n",
       "    <tr>\n",
       "      <th>62</th>\n",
       "      <td>79561be745b241f1bde6</td>\n",
       "      <td>48</td>\n",
       "      <td>0.729167</td>\n",
       "      <td>0.113269</td>\n",
       "      <td>27</td>\n",
       "      <td>144</td>\n",
       "      <td>62</td>\n",
       "      <td>20</td>\n",
       "      <td>7</td>\n",
       "      <td>233</td>\n",
       "    </tr>\n",
       "    <tr>\n",
       "      <th>59</th>\n",
       "      <td>75e1193d31af4e97bf44</td>\n",
       "      <td>52</td>\n",
       "      <td>0.730769</td>\n",
       "      <td>0.098701</td>\n",
       "      <td>28</td>\n",
       "      <td>72</td>\n",
       "      <td>58</td>\n",
       "      <td>108</td>\n",
       "      <td>5</td>\n",
       "      <td>243</td>\n",
       "    </tr>\n",
       "    <tr>\n",
       "      <th>...</th>\n",
       "      <td>...</td>\n",
       "      <td>...</td>\n",
       "      <td>...</td>\n",
       "      <td>...</td>\n",
       "      <td>...</td>\n",
       "      <td>...</td>\n",
       "      <td>...</td>\n",
       "      <td>...</td>\n",
       "      <td>...</td>\n",
       "      <td>...</td>\n",
       "    </tr>\n",
       "    <tr>\n",
       "      <th>1718</th>\n",
       "      <td>5687f9d340f7489fb565</td>\n",
       "      <td>16</td>\n",
       "      <td>0.312500</td>\n",
       "      <td>0.025253</td>\n",
       "      <td>-3</td>\n",
       "      <td>1628</td>\n",
       "      <td>1718</td>\n",
       "      <td>1721</td>\n",
       "      <td>1701</td>\n",
       "      <td>6768</td>\n",
       "    </tr>\n",
       "    <tr>\n",
       "      <th>1686</th>\n",
       "      <td>b34b034fcd924f9c8b5c</td>\n",
       "      <td>8</td>\n",
       "      <td>0.375000</td>\n",
       "      <td>0.027273</td>\n",
       "      <td>-2</td>\n",
       "      <td>1715</td>\n",
       "      <td>1683</td>\n",
       "      <td>1719</td>\n",
       "      <td>1695</td>\n",
       "      <td>6812</td>\n",
       "    </tr>\n",
       "    <tr>\n",
       "      <th>1721</th>\n",
       "      <td>1430742b4db2406d99a0</td>\n",
       "      <td>7</td>\n",
       "      <td>0.285714</td>\n",
       "      <td>0.024691</td>\n",
       "      <td>-1</td>\n",
       "      <td>1716</td>\n",
       "      <td>1721</td>\n",
       "      <td>1722</td>\n",
       "      <td>1668</td>\n",
       "      <td>6827</td>\n",
       "    </tr>\n",
       "    <tr>\n",
       "      <th>1724</th>\n",
       "      <td>caee2141602d4baf98de</td>\n",
       "      <td>12</td>\n",
       "      <td>0.250000</td>\n",
       "      <td>0.021429</td>\n",
       "      <td>-3</td>\n",
       "      <td>1690</td>\n",
       "      <td>1724</td>\n",
       "      <td>1723</td>\n",
       "      <td>1704</td>\n",
       "      <td>6841</td>\n",
       "    </tr>\n",
       "    <tr>\n",
       "      <th>1726</th>\n",
       "      <td>52954001ebf6474586ba</td>\n",
       "      <td>3</td>\n",
       "      <td>0.000000</td>\n",
       "      <td>0.000000</td>\n",
       "      <td>-3</td>\n",
       "      <td>1726</td>\n",
       "      <td>1726</td>\n",
       "      <td>1726</td>\n",
       "      <td>1711</td>\n",
       "      <td>6889</td>\n",
       "    </tr>\n",
       "  </tbody>\n",
       "</table>\n",
       "<p>1727 rows × 10 columns</p>\n",
       "</div>"
      ],
      "text/plain": [
       "                   user_id  techno_listened  techno_liked  techno_share  \\\n",
       "134   8232810d6053485db42b               63      0.698413      0.112821   \n",
       "92    4ccf7523ffe4420da841               52      0.711538      0.108187   \n",
       "24    825596f1cf1d4da7a957               46      0.782609      0.115016   \n",
       "62    79561be745b241f1bde6               48      0.729167      0.113269   \n",
       "59    75e1193d31af4e97bf44               52      0.730769      0.098701   \n",
       "...                    ...              ...           ...           ...   \n",
       "1718  5687f9d340f7489fb565               16      0.312500      0.025253   \n",
       "1686  b34b034fcd924f9c8b5c                8      0.375000      0.027273   \n",
       "1721  1430742b4db2406d99a0                7      0.285714      0.024691   \n",
       "1724  caee2141602d4baf98de               12      0.250000      0.021429   \n",
       "1726  52954001ebf6474586ba                3      0.000000      0.000000   \n",
       "\n",
       "      score  listened_rank  liked_rank  share_rank  score_rank  total_rank  \n",
       "134      33              5         134          22           0         161  \n",
       "92       28             69          92          39           6         206  \n",
       "24       30            173          23          17           3         216  \n",
       "62       27            144          62          20           7         233  \n",
       "59       28             72          58         108           5         243  \n",
       "...     ...            ...         ...         ...         ...         ...  \n",
       "1718     -3           1628        1718        1721        1701        6768  \n",
       "1686     -2           1715        1683        1719        1695        6812  \n",
       "1721     -1           1716        1721        1722        1668        6827  \n",
       "1724     -3           1690        1724        1723        1704        6841  \n",
       "1726     -3           1726        1726        1726        1711        6889  \n",
       "\n",
       "[1727 rows x 10 columns]"
      ]
     },
     "execution_count": 46,
     "metadata": {},
     "output_type": "execute_result"
    }
   ],
   "source": [
    "# просуммируем ранги\n",
    "users['total_rank'] = users.iloc[:, -4:].sum(axis=1)\n",
    "users.sort_values(by='total_rank', inplace=True)\n",
    "users"
   ]
  },
  {
   "cell_type": "markdown",
   "metadata": {},
   "source": [
    "Отлично, мы получили итоговый ранг для каждого пользователя. Однако стоит заметить, что переменная score несет информацию как о количестве прослушанных песен, так и о доле понравившихся. Поэтому ограничимся второй и третьей метриками."
   ]
  },
  {
   "cell_type": "code",
   "execution_count": 47,
   "metadata": {},
   "outputs": [
    {
     "data": {
      "text/html": [
       "<div>\n",
       "<style scoped>\n",
       "    .dataframe tbody tr th:only-of-type {\n",
       "        vertical-align: middle;\n",
       "    }\n",
       "\n",
       "    .dataframe tbody tr th {\n",
       "        vertical-align: top;\n",
       "    }\n",
       "\n",
       "    .dataframe thead th {\n",
       "        text-align: right;\n",
       "    }\n",
       "</style>\n",
       "<table border=\"1\" class=\"dataframe\">\n",
       "  <thead>\n",
       "    <tr style=\"text-align: right;\">\n",
       "      <th></th>\n",
       "      <th>user_id</th>\n",
       "      <th>techno_listened</th>\n",
       "      <th>techno_liked</th>\n",
       "      <th>techno_share</th>\n",
       "      <th>score</th>\n",
       "      <th>listened_rank</th>\n",
       "      <th>liked_rank</th>\n",
       "      <th>share_rank</th>\n",
       "      <th>score_rank</th>\n",
       "      <th>total_rank</th>\n",
       "      <th>total_rank2</th>\n",
       "    </tr>\n",
       "  </thead>\n",
       "  <tbody>\n",
       "    <tr>\n",
       "      <th>24</th>\n",
       "      <td>825596f1cf1d4da7a957</td>\n",
       "      <td>46</td>\n",
       "      <td>0.782609</td>\n",
       "      <td>0.115016</td>\n",
       "      <td>30</td>\n",
       "      <td>173</td>\n",
       "      <td>23</td>\n",
       "      <td>17</td>\n",
       "      <td>3</td>\n",
       "      <td>216</td>\n",
       "      <td>20</td>\n",
       "    </tr>\n",
       "    <tr>\n",
       "      <th>134</th>\n",
       "      <td>8232810d6053485db42b</td>\n",
       "      <td>63</td>\n",
       "      <td>0.698413</td>\n",
       "      <td>0.112821</td>\n",
       "      <td>33</td>\n",
       "      <td>5</td>\n",
       "      <td>134</td>\n",
       "      <td>22</td>\n",
       "      <td>0</td>\n",
       "      <td>161</td>\n",
       "      <td>22</td>\n",
       "    </tr>\n",
       "    <tr>\n",
       "      <th>122</th>\n",
       "      <td>64b6c65c4129495ba6a7</td>\n",
       "      <td>50</td>\n",
       "      <td>0.700000</td>\n",
       "      <td>0.135135</td>\n",
       "      <td>24</td>\n",
       "      <td>98</td>\n",
       "      <td>122</td>\n",
       "      <td>2</td>\n",
       "      <td>21</td>\n",
       "      <td>243</td>\n",
       "      <td>23</td>\n",
       "    </tr>\n",
       "    <tr>\n",
       "      <th>62</th>\n",
       "      <td>79561be745b241f1bde6</td>\n",
       "      <td>48</td>\n",
       "      <td>0.729167</td>\n",
       "      <td>0.113269</td>\n",
       "      <td>27</td>\n",
       "      <td>144</td>\n",
       "      <td>62</td>\n",
       "      <td>20</td>\n",
       "      <td>7</td>\n",
       "      <td>233</td>\n",
       "      <td>27</td>\n",
       "    </tr>\n",
       "    <tr>\n",
       "      <th>160</th>\n",
       "      <td>7ad3d1dd2c1f4aef827a</td>\n",
       "      <td>48</td>\n",
       "      <td>0.687500</td>\n",
       "      <td>0.113402</td>\n",
       "      <td>26</td>\n",
       "      <td>133</td>\n",
       "      <td>159</td>\n",
       "      <td>19</td>\n",
       "      <td>10</td>\n",
       "      <td>321</td>\n",
       "      <td>29</td>\n",
       "    </tr>\n",
       "  </tbody>\n",
       "</table>\n",
       "</div>"
      ],
      "text/plain": [
       "                  user_id  techno_listened  techno_liked  techno_share  score  \\\n",
       "24   825596f1cf1d4da7a957               46      0.782609      0.115016     30   \n",
       "134  8232810d6053485db42b               63      0.698413      0.112821     33   \n",
       "122  64b6c65c4129495ba6a7               50      0.700000      0.135135     24   \n",
       "62   79561be745b241f1bde6               48      0.729167      0.113269     27   \n",
       "160  7ad3d1dd2c1f4aef827a               48      0.687500      0.113402     26   \n",
       "\n",
       "     listened_rank  liked_rank  share_rank  score_rank  total_rank  \\\n",
       "24             173          23          17           3         216   \n",
       "134              5         134          22           0         161   \n",
       "122             98         122           2          21         243   \n",
       "62             144          62          20           7         233   \n",
       "160            133         159          19          10         321   \n",
       "\n",
       "     total_rank2  \n",
       "24            20  \n",
       "134           22  \n",
       "122           23  \n",
       "62            27  \n",
       "160           29  "
      ]
     },
     "execution_count": 47,
     "metadata": {},
     "output_type": "execute_result"
    }
   ],
   "source": [
    "users['total_rank2'] = users.share_rank + users.score_rank\n",
    "users.sort_values(by='total_rank2', inplace=True)\n",
    "users.head()"
   ]
  },
  {
   "cell_type": "code",
   "execution_count": 48,
   "metadata": {},
   "outputs": [
    {
     "data": {
      "image/png": "[encoded data removed]",
      "text/plain": [
       "<Figure size 432x288 with 1 Axes>"
      ]
     },
     "metadata": {
      "needs_background": "light"
     },
     "output_type": "display_data"
    }
   ],
   "source": [
    "sns.scatterplot(data=users, x='total_rank', y='total_rank2')\n",
    "plt.show()"
   ]
  },
  {
   "cell_type": "markdown",
   "metadata": {},
   "source": [
    "Два итоговых ранга сильно коррелируют между собой, поэтому точность нашего предсказания в любом случае сильно не пострадает."
   ]
  },
  {
   "cell_type": "markdown",
   "metadata": {},
   "source": [
    "### Кого зовем?"
   ]
  },
  {
   "cell_type": "markdown",
   "metadata": {},
   "source": [
    "Теперь, когда мы проранжировали пользователей и дали некоторую количественную оценку их заинтересованности, можно выбрать, кого звать на фестиваль.</br>\n",
    "Предлагаю для начала выделить 10% пользователей из верха списка, получится около 170 человек, и разослать им приглашения. Цена одного письма составляет 10 рублей, поэтому суммарно придется заплатить всего 1700. Если конверсия будет удовлетворительной, можно продолжать рассылку.</br>\n",
    "В противном случае, если итоговая метрика оказалось недостаточно точной, полученные данные об отклике можно использовать в качестве обучающей выборки для построения прогнозов."
   ]
  },
  {
   "cell_type": "code",
   "execution_count": 49,
   "metadata": {},
   "outputs": [],
   "source": [
    "users_to_offer = users[users.total_rank2 <= users.total_rank2.quantile(0.10)]"
   ]
  },
  {
   "cell_type": "code",
   "execution_count": 50,
   "metadata": {},
   "outputs": [
    {
     "data": {
      "text/html": [
       "<div>\n",
       "<style scoped>\n",
       "    .dataframe tbody tr th:only-of-type {\n",
       "        vertical-align: middle;\n",
       "    }\n",
       "\n",
       "    .dataframe tbody tr th {\n",
       "        vertical-align: top;\n",
       "    }\n",
       "\n",
       "    .dataframe thead th {\n",
       "        text-align: right;\n",
       "    }\n",
       "</style>\n",
       "<table border=\"1\" class=\"dataframe\">\n",
       "  <thead>\n",
       "    <tr style=\"text-align: right;\">\n",
       "      <th></th>\n",
       "      <th>techno_listened</th>\n",
       "      <th>techno_liked</th>\n",
       "      <th>techno_share</th>\n",
       "      <th>score</th>\n",
       "      <th>listened_rank</th>\n",
       "      <th>liked_rank</th>\n",
       "      <th>share_rank</th>\n",
       "      <th>score_rank</th>\n",
       "      <th>total_rank</th>\n",
       "      <th>total_rank2</th>\n",
       "    </tr>\n",
       "  </thead>\n",
       "  <tbody>\n",
       "    <tr>\n",
       "      <th>count</th>\n",
       "      <td>173.00</td>\n",
       "      <td>173.00</td>\n",
       "      <td>173.00</td>\n",
       "      <td>173.00</td>\n",
       "      <td>173.00</td>\n",
       "      <td>173.00</td>\n",
       "      <td>173.00</td>\n",
       "      <td>173.00</td>\n",
       "      <td>173.00</td>\n",
       "      <td>173.00</td>\n",
       "    </tr>\n",
       "    <tr>\n",
       "      <th>mean</th>\n",
       "      <td>42.21</td>\n",
       "      <td>0.68</td>\n",
       "      <td>0.10</td>\n",
       "      <td>19.53</td>\n",
       "      <td>414.43</td>\n",
       "      <td>264.34</td>\n",
       "      <td>142.64</td>\n",
       "      <td>127.33</td>\n",
       "      <td>948.74</td>\n",
       "      <td>269.97</td>\n",
       "    </tr>\n",
       "    <tr>\n",
       "      <th>std</th>\n",
       "      <td>9.75</td>\n",
       "      <td>0.06</td>\n",
       "      <td>0.01</td>\n",
       "      <td>3.81</td>\n",
       "      <td>373.37</td>\n",
       "      <td>202.46</td>\n",
       "      <td>97.78</td>\n",
       "      <td>94.51</td>\n",
       "      <td>379.55</td>\n",
       "      <td>124.03</td>\n",
       "    </tr>\n",
       "    <tr>\n",
       "      <th>min</th>\n",
       "      <td>18.00</td>\n",
       "      <td>0.56</td>\n",
       "      <td>0.08</td>\n",
       "      <td>13.00</td>\n",
       "      <td>2.00</td>\n",
       "      <td>4.00</td>\n",
       "      <td>0.00</td>\n",
       "      <td>0.00</td>\n",
       "      <td>161.00</td>\n",
       "      <td>20.00</td>\n",
       "    </tr>\n",
       "    <tr>\n",
       "      <th>25%</th>\n",
       "      <td>36.00</td>\n",
       "      <td>0.64</td>\n",
       "      <td>0.09</td>\n",
       "      <td>17.00</td>\n",
       "      <td>104.00</td>\n",
       "      <td>106.00</td>\n",
       "      <td>62.00</td>\n",
       "      <td>48.00</td>\n",
       "      <td>669.00</td>\n",
       "      <td>176.00</td>\n",
       "    </tr>\n",
       "    <tr>\n",
       "      <th>50%</th>\n",
       "      <td>41.00</td>\n",
       "      <td>0.67</td>\n",
       "      <td>0.10</td>\n",
       "      <td>19.00</td>\n",
       "      <td>318.00</td>\n",
       "      <td>214.00</td>\n",
       "      <td>126.00</td>\n",
       "      <td>115.00</td>\n",
       "      <td>937.00</td>\n",
       "      <td>275.00</td>\n",
       "    </tr>\n",
       "    <tr>\n",
       "      <th>75%</th>\n",
       "      <td>50.00</td>\n",
       "      <td>0.71</td>\n",
       "      <td>0.10</td>\n",
       "      <td>22.00</td>\n",
       "      <td>601.00</td>\n",
       "      <td>372.00</td>\n",
       "      <td>204.00</td>\n",
       "      <td>191.00</td>\n",
       "      <td>1263.00</td>\n",
       "      <td>372.00</td>\n",
       "    </tr>\n",
       "    <tr>\n",
       "      <th>max</th>\n",
       "      <td>68.00</td>\n",
       "      <td>0.87</td>\n",
       "      <td>0.15</td>\n",
       "      <td>33.00</td>\n",
       "      <td>1571.00</td>\n",
       "      <td>890.00</td>\n",
       "      <td>445.00</td>\n",
       "      <td>412.00</td>\n",
       "      <td>1942.00</td>\n",
       "      <td>472.00</td>\n",
       "    </tr>\n",
       "  </tbody>\n",
       "</table>\n",
       "</div>"
      ],
      "text/plain": [
       "       techno_listened  techno_liked  techno_share   score  listened_rank  \\\n",
       "count           173.00        173.00        173.00  173.00         173.00   \n",
       "mean             42.21          0.68          0.10   19.53         414.43   \n",
       "std               9.75          0.06          0.01    3.81         373.37   \n",
       "min              18.00          0.56          0.08   13.00           2.00   \n",
       "25%              36.00          0.64          0.09   17.00         104.00   \n",
       "50%              41.00          0.67          0.10   19.00         318.00   \n",
       "75%              50.00          0.71          0.10   22.00         601.00   \n",
       "max              68.00          0.87          0.15   33.00        1571.00   \n",
       "\n",
       "       liked_rank  share_rank  score_rank  total_rank  total_rank2  \n",
       "count      173.00      173.00      173.00      173.00       173.00  \n",
       "mean       264.34      142.64      127.33      948.74       269.97  \n",
       "std        202.46       97.78       94.51      379.55       124.03  \n",
       "min          4.00        0.00        0.00      161.00        20.00  \n",
       "25%        106.00       62.00       48.00      669.00       176.00  \n",
       "50%        214.00      126.00      115.00      937.00       275.00  \n",
       "75%        372.00      204.00      191.00     1263.00       372.00  \n",
       "max        890.00      445.00      412.00     1942.00       472.00  "
      ]
     },
     "execution_count": 50,
     "metadata": {},
     "output_type": "execute_result"
    }
   ],
   "source": [
    "# Убедимся, что в выборку не попали выбросы\n",
    "users_to_offer.describe().round(2)"
   ]
  },
  {
   "cell_type": "code",
   "execution_count": 51,
   "metadata": {},
   "outputs": [
    {
     "data": {
      "text/html": [
       "<div>\n",
       "<style scoped>\n",
       "    .dataframe tbody tr th:only-of-type {\n",
       "        vertical-align: middle;\n",
       "    }\n",
       "\n",
       "    .dataframe tbody tr th {\n",
       "        vertical-align: top;\n",
       "    }\n",
       "\n",
       "    .dataframe thead th {\n",
       "        text-align: right;\n",
       "    }\n",
       "</style>\n",
       "<table border=\"1\" class=\"dataframe\">\n",
       "  <thead>\n",
       "    <tr style=\"text-align: right;\">\n",
       "      <th></th>\n",
       "      <th>user_id</th>\n",
       "      <th>techno_listened</th>\n",
       "      <th>techno_liked</th>\n",
       "      <th>techno_share</th>\n",
       "      <th>score</th>\n",
       "      <th>listened_rank</th>\n",
       "      <th>liked_rank</th>\n",
       "      <th>share_rank</th>\n",
       "      <th>score_rank</th>\n",
       "      <th>total_rank</th>\n",
       "      <th>total_rank2</th>\n",
       "    </tr>\n",
       "  </thead>\n",
       "  <tbody>\n",
       "    <tr>\n",
       "      <th>24</th>\n",
       "      <td>825596f1cf1d4da7a957</td>\n",
       "      <td>46</td>\n",
       "      <td>0.782609</td>\n",
       "      <td>0.115016</td>\n",
       "      <td>30</td>\n",
       "      <td>173</td>\n",
       "      <td>23</td>\n",
       "      <td>17</td>\n",
       "      <td>3</td>\n",
       "      <td>216</td>\n",
       "      <td>20</td>\n",
       "    </tr>\n",
       "    <tr>\n",
       "      <th>134</th>\n",
       "      <td>8232810d6053485db42b</td>\n",
       "      <td>63</td>\n",
       "      <td>0.698413</td>\n",
       "      <td>0.112821</td>\n",
       "      <td>33</td>\n",
       "      <td>5</td>\n",
       "      <td>134</td>\n",
       "      <td>22</td>\n",
       "      <td>0</td>\n",
       "      <td>161</td>\n",
       "      <td>22</td>\n",
       "    </tr>\n",
       "    <tr>\n",
       "      <th>122</th>\n",
       "      <td>64b6c65c4129495ba6a7</td>\n",
       "      <td>50</td>\n",
       "      <td>0.700000</td>\n",
       "      <td>0.135135</td>\n",
       "      <td>24</td>\n",
       "      <td>98</td>\n",
       "      <td>122</td>\n",
       "      <td>2</td>\n",
       "      <td>21</td>\n",
       "      <td>243</td>\n",
       "      <td>23</td>\n",
       "    </tr>\n",
       "    <tr>\n",
       "      <th>62</th>\n",
       "      <td>79561be745b241f1bde6</td>\n",
       "      <td>48</td>\n",
       "      <td>0.729167</td>\n",
       "      <td>0.113269</td>\n",
       "      <td>27</td>\n",
       "      <td>144</td>\n",
       "      <td>62</td>\n",
       "      <td>20</td>\n",
       "      <td>7</td>\n",
       "      <td>233</td>\n",
       "      <td>27</td>\n",
       "    </tr>\n",
       "    <tr>\n",
       "      <th>160</th>\n",
       "      <td>7ad3d1dd2c1f4aef827a</td>\n",
       "      <td>48</td>\n",
       "      <td>0.687500</td>\n",
       "      <td>0.113402</td>\n",
       "      <td>26</td>\n",
       "      <td>133</td>\n",
       "      <td>159</td>\n",
       "      <td>19</td>\n",
       "      <td>10</td>\n",
       "      <td>321</td>\n",
       "      <td>29</td>\n",
       "    </tr>\n",
       "    <tr>\n",
       "      <th>...</th>\n",
       "      <td>...</td>\n",
       "      <td>...</td>\n",
       "      <td>...</td>\n",
       "      <td>...</td>\n",
       "      <td>...</td>\n",
       "      <td>...</td>\n",
       "      <td>...</td>\n",
       "      <td>...</td>\n",
       "      <td>...</td>\n",
       "      <td>...</td>\n",
       "      <td>...</td>\n",
       "    </tr>\n",
       "    <tr>\n",
       "      <th>166</th>\n",
       "      <td>d328466a7c2c45d3b55c</td>\n",
       "      <td>32</td>\n",
       "      <td>0.687500</td>\n",
       "      <td>0.090909</td>\n",
       "      <td>15</td>\n",
       "      <td>807</td>\n",
       "      <td>162</td>\n",
       "      <td>197</td>\n",
       "      <td>265</td>\n",
       "      <td>1431</td>\n",
       "      <td>462</td>\n",
       "    </tr>\n",
       "    <tr>\n",
       "      <th>499</th>\n",
       "      <td>f33b4a064a074928aca4</td>\n",
       "      <td>39</td>\n",
       "      <td>0.615385</td>\n",
       "      <td>0.104803</td>\n",
       "      <td>13</td>\n",
       "      <td>431</td>\n",
       "      <td>500</td>\n",
       "      <td>53</td>\n",
       "      <td>412</td>\n",
       "      <td>1396</td>\n",
       "      <td>465</td>\n",
       "    </tr>\n",
       "    <tr>\n",
       "      <th>264</th>\n",
       "      <td>0311bed05d2b4c7a8ab9</td>\n",
       "      <td>44</td>\n",
       "      <td>0.659091</td>\n",
       "      <td>0.086053</td>\n",
       "      <td>17</td>\n",
       "      <td>217</td>\n",
       "      <td>265</td>\n",
       "      <td>288</td>\n",
       "      <td>182</td>\n",
       "      <td>952</td>\n",
       "      <td>470</td>\n",
       "    </tr>\n",
       "    <tr>\n",
       "      <th>500</th>\n",
       "      <td>6a13956d98a84849b8ac</td>\n",
       "      <td>39</td>\n",
       "      <td>0.615385</td>\n",
       "      <td>0.082192</td>\n",
       "      <td>19</td>\n",
       "      <td>449</td>\n",
       "      <td>496</td>\n",
       "      <td>371</td>\n",
       "      <td>100</td>\n",
       "      <td>1416</td>\n",
       "      <td>471</td>\n",
       "    </tr>\n",
       "    <tr>\n",
       "      <th>203</th>\n",
       "      <td>6e8dc35dfacf4baeb06e</td>\n",
       "      <td>37</td>\n",
       "      <td>0.675676</td>\n",
       "      <td>0.085911</td>\n",
       "      <td>17</td>\n",
       "      <td>559</td>\n",
       "      <td>203</td>\n",
       "      <td>291</td>\n",
       "      <td>181</td>\n",
       "      <td>1234</td>\n",
       "      <td>472</td>\n",
       "    </tr>\n",
       "  </tbody>\n",
       "</table>\n",
       "<p>173 rows × 11 columns</p>\n",
       "</div>"
      ],
      "text/plain": [
       "                  user_id  techno_listened  techno_liked  techno_share  score  \\\n",
       "24   825596f1cf1d4da7a957               46      0.782609      0.115016     30   \n",
       "134  8232810d6053485db42b               63      0.698413      0.112821     33   \n",
       "122  64b6c65c4129495ba6a7               50      0.700000      0.135135     24   \n",
       "62   79561be745b241f1bde6               48      0.729167      0.113269     27   \n",
       "160  7ad3d1dd2c1f4aef827a               48      0.687500      0.113402     26   \n",
       "..                    ...              ...           ...           ...    ...   \n",
       "166  d328466a7c2c45d3b55c               32      0.687500      0.090909     15   \n",
       "499  f33b4a064a074928aca4               39      0.615385      0.104803     13   \n",
       "264  0311bed05d2b4c7a8ab9               44      0.659091      0.086053     17   \n",
       "500  6a13956d98a84849b8ac               39      0.615385      0.082192     19   \n",
       "203  6e8dc35dfacf4baeb06e               37      0.675676      0.085911     17   \n",
       "\n",
       "     listened_rank  liked_rank  share_rank  score_rank  total_rank  \\\n",
       "24             173          23          17           3         216   \n",
       "134              5         134          22           0         161   \n",
       "122             98         122           2          21         243   \n",
       "62             144          62          20           7         233   \n",
       "160            133         159          19          10         321   \n",
       "..             ...         ...         ...         ...         ...   \n",
       "166            807         162         197         265        1431   \n",
       "499            431         500          53         412        1396   \n",
       "264            217         265         288         182         952   \n",
       "500            449         496         371         100        1416   \n",
       "203            559         203         291         181        1234   \n",
       "\n",
       "     total_rank2  \n",
       "24            20  \n",
       "134           22  \n",
       "122           23  \n",
       "62            27  \n",
       "160           29  \n",
       "..           ...  \n",
       "166          462  \n",
       "499          465  \n",
       "264          470  \n",
       "500          471  \n",
       "203          472  \n",
       "\n",
       "[173 rows x 11 columns]"
      ]
     },
     "execution_count": 51,
     "metadata": {},
     "output_type": "execute_result"
    }
   ],
   "source": [
    "users_to_offer"
   ]
  }
 ],
 "metadata": {
  "kernelspec": {
   "display_name": "Python 3",
   "language": "python",
   "name": "python3"
  },
  "language_info": {
   "codemirror_mode": {
    "name": "ipython",
    "version": 3
   },
   "file_extension": ".py",
   "mimetype": "text/x-python",
   "name": "python",
   "nbconvert_exporter": "python",
   "pygments_lexer": "ipython3",
   "version": "3.8.5"
  }
 },
 "nbformat": 4,
 "nbformat_minor": 4
}
